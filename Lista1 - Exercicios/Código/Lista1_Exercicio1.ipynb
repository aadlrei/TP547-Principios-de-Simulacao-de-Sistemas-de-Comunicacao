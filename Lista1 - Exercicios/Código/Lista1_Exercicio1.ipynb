{
  "nbformat": 4,
  "nbformat_minor": 0,
  "metadata": {
    "colab": {
      "provenance": []
    },
    "kernelspec": {
      "name": "python3",
      "display_name": "Python 3"
    },
    "language_info": {
      "name": "python"
    }
  },
  "cells": [
    {
      "cell_type": "code",
      "execution_count": 1,
      "metadata": {
        "colab": {
          "base_uri": "https://localhost:8080/"
        },
        "id": "eGjPfrXw7zZ4",
        "outputId": "97b048ac-ebfc-49d8-e3eb-ee164edf8678"
      },
      "outputs": [
        {
          "output_type": "stream",
          "name": "stdout",
          "text": [
            "Valores gerados: [7, 4, 5, 10, 3, 0, 1, 6, 15, 12, 13, 2, 11, 8, 9, 14]\n",
            "Período: 16\n"
          ]
        }
      ],
      "source": [
        "import numpy as np\n",
        "\n",
        "x = 7  # Valor inicial x0\n",
        "a = 5\n",
        "c = 1\n",
        "m = 16\n",
        "\n",
        "x1 = [x]  # Cria uma lista con x0 como valor inicial\n",
        "\n",
        "while True:\n",
        "    x = (a * x + c) % m  # Gera o próximo número\n",
        "    if x == x1[0]:  # Se repetir o primeiro valor, terminamos\n",
        "        break\n",
        "    x1.append(x)  # Adiciona o novo valor à lista\n",
        "\n",
        "# Imprimir os valores gerados e o período\n",
        "print(\"Valores gerados:\", x1)\n",
        "print(\"Período:\", len(x1))"
      ]
    }
  ]
}