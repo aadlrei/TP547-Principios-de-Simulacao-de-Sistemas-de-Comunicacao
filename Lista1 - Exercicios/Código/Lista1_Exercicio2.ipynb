{
  "nbformat": 4,
  "nbformat_minor": 0,
  "metadata": {
    "colab": {
      "provenance": []
    },
    "kernelspec": {
      "name": "python3",
      "display_name": "Python 3"
    },
    "language_info": {
      "name": "python"
    }
  },
  "cells": [
    {
      "cell_type": "code",
      "execution_count": null,
      "metadata": {
        "colab": {
          "base_uri": "https://localhost:8080/"
        },
        "id": "f83jBfcbCE3a",
        "outputId": "bfe62ecf-513d-440b-f6cb-c97316f91f02"
      },
      "outputs": [
        {
          "output_type": "stream",
          "name": "stdout",
          "text": [
            "P(X = 2) ≈ 0.1006\n",
            "P(X ≤ 2) ≈ 0.4235\n"
          ]
        }
      ],
      "source": [
        "import numpy as np\n",
        "\n",
        "# Definir parámetros\n",
        "lambda1 = 3  # Número médio de requisições (média da Poisson)\n",
        "N = 1000000  # Número de amostras (tamanho da simulação)\n",
        "# Gerar amostras da distribuição de Poisson usando a transformada inversa\n",
        "av = np.array([])\n",
        "x = np.random.uniform(0, 1, N)\n",
        "\n",
        "for ix in x:\n",
        "    i = 0\n",
        "    pr = np.exp(-lambda1)\n",
        "    F = pr\n",
        "    while ix >= F:\n",
        "        pr = lambda1 / (i + 1) * pr\n",
        "        F = F + pr\n",
        "        i = i + 1\n",
        "    av = np.append(av, i)\n",
        "\n",
        "# Calcular probabilidades\n",
        "prob_2 = np.sum(av == 5) / N  # P(X = 2)\n",
        "prob_leq_2 = np.sum(av <= 2) / N  # P(X ≤ 2)\n",
        "\n",
        "# Mostrar resultados\n",
        "print(f\"P(X = 2) ≈ {prob_2:.4f}\")\n",
        "print(f\"P(X ≤ 2) ≈ {prob_leq_2:.4f}\")\n"
      ]
    }
  ]
}