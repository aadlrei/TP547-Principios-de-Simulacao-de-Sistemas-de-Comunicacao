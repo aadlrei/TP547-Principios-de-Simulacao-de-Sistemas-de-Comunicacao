{
  "nbformat": 4,
  "nbformat_minor": 0,
  "metadata": {
    "colab": {
      "provenance": []
    },
    "kernelspec": {
      "name": "python3",
      "display_name": "Python 3"
    },
    "language_info": {
      "name": "python"
    }
  },
  "cells": [
    {
      "cell_type": "code",
      "execution_count": 6,
      "metadata": {
        "colab": {
          "base_uri": "https://localhost:8080/"
        },
        "id": "vS_hwl1ZXyJ4",
        "outputId": "418aa0a7-5883-4789-ef62-1449aa918e4c"
      },
      "outputs": [
        {
          "output_type": "stream",
          "name": "stdout",
          "text": [
            "a) Probabilidade de ganhar no 3° lançamento: 0.1160\n",
            "b) Probabilidade de precisar de ≥4 lançamentos: 0.5761\n",
            "c) Média estimada: 5.99 lançamentos\n",
            "   Desvio padrão estimado: 5.45 lançamentos\n"
          ]
        }
      ],
      "source": [
        "import random  # Para gerar números aleatórios\n",
        "import math    # Para cálculos matemáticos (raiz quadrada)\n",
        "\n",
        "# Configurações do problema do dado\n",
        "p = 1/6        # Probabilidade de sucesso (sair o número 5)\n",
        "num_simulacoes = 100000  # Número de repetições para as simulações\n",
        "\n",
        "# Gerando uma variável geométrica (sem usar funções)\n",
        "intentos = 1  # Começa no primeiro lançamento\n",
        "# Enquanto não obtivermos sucesso (número aleatório > p)\n",
        "while random.random() > p:\n",
        "    intentos += 1  # Conta mais um lançamento\n",
        "valor_geometrico = intentos  # Guarda o resultado\n",
        "\n",
        "# Inciso a) Probabilidade P(X=3) - Ganhar no terceiro lançamento exatamente\n",
        "\n",
        "contador_a = 0  # Contador para casos onde X=3\n",
        "\n",
        "for _ in range(num_simulacoes):\n",
        "    intentos = 1  # Reinicia contagem\n",
        "    # Simula lançamentos até obter sucesso\n",
        "    while random.random() > p:\n",
        "        intentos += 1\n",
        "    # Se conseguiu no 3º lançamento, conta\n",
        "    if intentos == 3:\n",
        "        contador_a += 1\n",
        "\n",
        "# Calcula probabilidade como (casos favoráveis)/(total de tentativas)\n",
        "prob_a_sim = contador_a / num_simulacoes\n",
        "\n",
        "print(f\"a) Probabilidade de ganhar no 3° lançamento: {prob_a_sim:.4f}\")\n",
        "\n",
        "# Inciso b) Probabilidade P(X≥4) - Necessitar pelo menos 4 lançamentos para ganhar\n",
        "contador_b = 0  # Contador para casos onde X≥4\n",
        "\n",
        "for _ in range(num_simulacoes):\n",
        "    intentos = 1\n",
        "    while random.random() > p:\n",
        "        intentos += 1\n",
        "    if intentos >= 4:  # Conta se precisou de 4+ lançamentos\n",
        "        contador_b += 1\n",
        "\n",
        "prob_b_sim = contador_b / num_simulacoes\n",
        "\n",
        "print(f\"b) Probabilidade de precisar de ≥4 lançamentos: {prob_b_sim:.4f}\")\n",
        "\n",
        "# Inciso c) Cálculo da média e desvio padrão #\n",
        "valores = []  # Armazenará todos os resultados das simulações\n",
        "\n",
        "for _ in range(num_simulacoes):\n",
        "    intentos = 1\n",
        "    while random.random() > p:\n",
        "        intentos += 1\n",
        "    valores.append(intentos)  # Guarda cada resultado\n",
        "\n",
        "# Cálculo da média (soma todos valores e divide pelo total)\n",
        "media_sim = sum(valores)/num_simulacoes\n",
        "\n",
        "# Cálculo da variância (média dos quadrados das diferenças)\n",
        "varianza_sim = sum((x - media_sim)**2 for x in valores)/num_simulacoes\n",
        "\n",
        "# Desvio padrão é a raiz quadrada da variância\n",
        "desviacion_sim = math.sqrt(varianza_sim)\n",
        "\n",
        "print(f\"c) Média estimada: {media_sim:.2f} lançamentos\")\n",
        "print(f\"   Desvio padrão estimado: {desviacion_sim:.2f} lançamentos\")\n"
      ]
    }
  ]
}